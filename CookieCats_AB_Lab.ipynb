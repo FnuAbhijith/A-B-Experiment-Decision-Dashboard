{
 "cells": [
  {
   "cell_type": "code",
   "execution_count": 1,
   "id": "1da37146",
   "metadata": {},
   "outputs": [
    {
     "name": "stdout",
     "output_type": "stream",
     "text": [
      "Note: you may need to restart the kernel to use updated packages.\n"
     ]
    }
   ],
   "source": [
    "%pip install -q pandas numpy scipy statsmodels matplotlib jinja2\n"
   ]
  },
  {
   "cell_type": "code",
   "execution_count": 2,
   "id": "64ff19bf",
   "metadata": {},
   "outputs": [
    {
     "name": "stderr",
     "output_type": "stream",
     "text": [
      "C:\\Users\\abhij\\anaconda3\\envs\\flask\\lib\\site-packages\\pandas\\core\\arrays\\masked.py:60: UserWarning: Pandas requires version '1.3.6' or newer of 'bottleneck' (version '1.3.5' currently installed).\n",
      "  from pandas.core import (\n"
     ]
    }
   ],
   "source": [
    "#Imports & setup\n",
    "import numpy as np, pandas as pd\n",
    "from pathlib import Path\n",
    "from datetime import datetime\n",
    "from scipy import stats\n",
    "from statsmodels.stats.proportion import proportions_ztest\n",
    "import matplotlib.pyplot as plt\n",
    "\n",
    "plt.rcParams[\"figure.figsize\"] = (7.5, 4.5)\n",
    "plt.rcParams[\"axes.grid\"] = True\n"
   ]
  },
  {
   "cell_type": "code",
   "execution_count": 3,
   "id": "f5f99c65",
   "metadata": {},
   "outputs": [
    {
     "data": {
      "text/html": [
       "<div>\n",
       "<style scoped>\n",
       "    .dataframe tbody tr th:only-of-type {\n",
       "        vertical-align: middle;\n",
       "    }\n",
       "\n",
       "    .dataframe tbody tr th {\n",
       "        vertical-align: top;\n",
       "    }\n",
       "\n",
       "    .dataframe thead th {\n",
       "        text-align: right;\n",
       "    }\n",
       "</style>\n",
       "<table border=\"1\" class=\"dataframe\">\n",
       "  <thead>\n",
       "    <tr style=\"text-align: right;\">\n",
       "      <th></th>\n",
       "      <th>userid</th>\n",
       "      <th>version</th>\n",
       "      <th>sum_gamerounds</th>\n",
       "      <th>retention_1</th>\n",
       "      <th>retention_7</th>\n",
       "    </tr>\n",
       "  </thead>\n",
       "  <tbody>\n",
       "    <tr>\n",
       "      <th>0</th>\n",
       "      <td>116</td>\n",
       "      <td>gate_30</td>\n",
       "      <td>3</td>\n",
       "      <td>False</td>\n",
       "      <td>False</td>\n",
       "    </tr>\n",
       "    <tr>\n",
       "      <th>1</th>\n",
       "      <td>337</td>\n",
       "      <td>gate_30</td>\n",
       "      <td>38</td>\n",
       "      <td>True</td>\n",
       "      <td>False</td>\n",
       "    </tr>\n",
       "    <tr>\n",
       "      <th>2</th>\n",
       "      <td>377</td>\n",
       "      <td>gate_40</td>\n",
       "      <td>165</td>\n",
       "      <td>True</td>\n",
       "      <td>False</td>\n",
       "    </tr>\n",
       "    <tr>\n",
       "      <th>3</th>\n",
       "      <td>483</td>\n",
       "      <td>gate_40</td>\n",
       "      <td>1</td>\n",
       "      <td>False</td>\n",
       "      <td>False</td>\n",
       "    </tr>\n",
       "    <tr>\n",
       "      <th>4</th>\n",
       "      <td>488</td>\n",
       "      <td>gate_40</td>\n",
       "      <td>179</td>\n",
       "      <td>True</td>\n",
       "      <td>True</td>\n",
       "    </tr>\n",
       "  </tbody>\n",
       "</table>\n",
       "</div>"
      ],
      "text/plain": [
       "   userid  version  sum_gamerounds  retention_1  retention_7\n",
       "0     116  gate_30               3        False        False\n",
       "1     337  gate_30              38         True        False\n",
       "2     377  gate_40             165         True        False\n",
       "3     483  gate_40               1        False        False\n",
       "4     488  gate_40             179         True         True"
      ]
     },
     "execution_count": 3,
     "metadata": {},
     "output_type": "execute_result"
    }
   ],
   "source": [
    "#Point to your CSV & load\n",
    "CSV_IN = \"cookie_cats.csv\"  # change if different\n",
    "\n",
    "raw = pd.read_csv(CSV_IN)\n",
    "raw.head()\n"
   ]
  },
  {
   "cell_type": "code",
   "execution_count": 4,
   "id": "ce03d271",
   "metadata": {},
   "outputs": [
    {
     "data": {
      "text/plain": [
       "(   user_id variant  conversion  revenue\n",
       " 0      116       A           0      3.0\n",
       " 1      337       A           0     38.0\n",
       " 2      377       B           0    165.0\n",
       " 3      483       B           0      1.0\n",
       " 4      488       B           1    179.0,\n",
       " variant\n",
       " B    45489\n",
       " A    44700\n",
       " Name: count, dtype: int64)"
      ]
     },
     "execution_count": 4,
     "metadata": {},
     "output_type": "execute_result"
    }
   ],
   "source": [
    "#Map to A/B + pick metrics\n",
    "df = pd.DataFrame({\n",
    "    \"user_id\": raw[\"userid\"],\n",
    "    \"variant\": raw[\"version\"].map({\"gate_30\": \"A\", \"gate_40\": \"B\"}),\n",
    "    \"conversion\": raw[\"retention_7\"].astype(int),\n",
    "    \"revenue\": raw[\"sum_gamerounds\"].astype(float)\n",
    "}).dropna(subset=[\"variant\",\"conversion\",\"revenue\"])\n",
    "\n",
    "df.head(), df.variant.value_counts()\n"
   ]
  },
  {
   "cell_type": "code",
   "execution_count": 5,
   "id": "eaac0a84",
   "metadata": {},
   "outputs": [
    {
     "data": {
      "text/plain": [
       "(             n      rate   sum\n",
       " variant                       \n",
       " A        44700  0.190201  8502\n",
       " B        45489  0.182000  8279,\n",
       "          count       mean         std  median  min      max  quantile\n",
       " variant                                                              \n",
       " A        44700  52.456264  256.716423    17.0  0.0  49854.0      17.0\n",
       " B        45489  51.298776  103.294416    16.0  0.0   2640.0      16.0)"
      ]
     },
     "execution_count": 5,
     "metadata": {},
     "output_type": "execute_result"
    }
   ],
   "source": [
    "#Descriptive statistics\n",
    "desc_conv = df.groupby(\"variant\")[\"conversion\"].agg(n=\"count\", rate=\"mean\", sum=\"sum\")\n",
    "desc_rev  = df.groupby(\"variant\")[\"revenue\"].agg([\"count\",\"mean\",\"std\",\"median\",\"min\",\"max\",\"quantile\"])\n",
    "desc_conv, desc_rev\n"
   ]
  },
  {
   "cell_type": "code",
   "execution_count": 6,
   "id": "c27507e5",
   "metadata": {},
   "outputs": [],
   "source": [
    "#Hypothesis test helpers\n",
    "def two_prop_test(succ_a, n_a, succ_b, n_b, alpha=0.05):\n",
    "    count = np.array([succ_a, succ_b])\n",
    "    nobs  = np.array([n_a,    n_b])\n",
    "    z, p = proportions_ztest(count, nobs, alternative='two-sided')\n",
    "    p1, p2 = succ_a/n_a, succ_b/n_b\n",
    "    delta = p2 - p1\n",
    "    se = np.sqrt(p1*(1-p1)/n_a + p2*(1-p2)/n_b)\n",
    "    zcrit = stats.norm.ppf(1-alpha/2)\n",
    "    ci = (delta - zcrit*se, delta + zcrit*se)\n",
    "    rel = (p2/p1 - 1.0) if p1>0 else np.nan\n",
    "    return {\"test\":\"Two-proportion z\", \"pA\":p1, \"pB\":p2, \"delta\":delta,\n",
    "            \"rel_lift\":rel, \"ci_low\":ci[0], \"ci_high\":ci[1], \"pvalue\":float(p)}\n",
    "\n",
    "def welch_t_test(x, y, alpha=0.05):\n",
    "    x, y = np.asarray(x), np.asarray(y)\n",
    "    nx, ny = len(x), len(y)\n",
    "    mx, my = x.mean(), y.mean()\n",
    "    vx, vy = x.var(ddof=1), y.var(ddof=1)\n",
    "    se = np.sqrt(vx/nx + vy/ny)\n",
    "    df = (vx/nx + vy/ny)**2 / ((vx**2/((nx**2)*(nx-1))) + (vy**2/((ny**2)*(ny-1))))\n",
    "    t = (my - mx) / se\n",
    "    p = 2*(1 - stats.t.cdf(np.abs(t), df))\n",
    "    tcrit = stats.t.ppf(1-alpha/2, df)\n",
    "    delta = my - mx\n",
    "    ci = (delta - tcrit*se, delta + tcrit*se)\n",
    "    sp = np.sqrt(((nx-1)*vx + (ny-1)*vy) / (nx+ny-2))\n",
    "    d = delta / sp if sp>0 else 0.0   # Cohen's d\n",
    "    return {\"test\":\"Welch t (means)\",\"meanA\":mx,\"meanB\":my,\"delta\":delta,\n",
    "            \"ci_low\":ci[0],\"ci_high\":ci[1],\"cohen_d\":d,\"pvalue\":float(p)}\n"
   ]
  },
  {
   "cell_type": "code",
   "execution_count": 7,
   "id": "942e9e2b",
   "metadata": {},
   "outputs": [
    {
     "data": {
      "text/plain": [
       "({'test': 'Two-proportion z',\n",
       "  'pA': 0.19020134228187918,\n",
       "  'pB': 0.18200004396667327,\n",
       "  'delta': -0.008201298315205913,\n",
       "  'rel_lift': -0.043119034896460184,\n",
       "  'ci_low': -0.013281552418885545,\n",
       "  'ci_high': -0.0031210442115262808,\n",
       "  'pvalue': 0.001554249975614329},\n",
       " {'test': 'Welch t (means)',\n",
       "  'meanA': 52.45626398210291,\n",
       "  'meanB': 51.29877552814966,\n",
       "  'delta': -1.157488453953249,\n",
       "  'ci_low': -3.7197051164946453,\n",
       "  'ci_high': 1.4047282085881472,\n",
       "  'cohen_d': -0.005934283736779187,\n",
       "  'pvalue': 0.37592438409326157})"
      ]
     },
     "execution_count": 7,
     "metadata": {},
     "output_type": "execute_result"
    }
   ],
   "source": [
    "#Run the A/B tests (primary + secondary)\n",
    "A = df[df.variant==\"A\"]; B = df[df.variant==\"B\"]\n",
    "\n",
    "# Primary: retention_7 (proportion)\n",
    "res_prop = two_prop_test(int(A[\"conversion\"].sum()), len(A),\n",
    "                         int(B[\"conversion\"].sum()), len(B), alpha=0.05)\n",
    "\n",
    "# Secondary: sum_gamerounds (mean)\n",
    "res_mean = welch_t_test(A[\"revenue\"].values, B[\"revenue\"].values, alpha=0.05)\n",
    "\n",
    "res_prop, res_mean\n"
   ]
  },
  {
   "cell_type": "code",
   "execution_count": 8,
   "id": "a32ccaec",
   "metadata": {},
   "outputs": [
    {
     "data": {
      "text/plain": [
       "(-4.037704995351779, 0.9539759784834797)"
      ]
     },
     "execution_count": 8,
     "metadata": {},
     "output_type": "execute_result"
    }
   ],
   "source": [
    "#Bootstrap CI + permutation test\n",
    "\n",
    "def bootstrap_ci_diff_means(a, b, iters=3000, alpha=0.05, seed=42):\n",
    "    \"\"\"\n",
    "    Unpaired bootstrap for the difference of means: mean(B) - mean(A).\n",
    "    Resamples each arm independently (with replacement) at their own sizes.\n",
    "    \"\"\"\n",
    "    rng = np.random.default_rng(seed)\n",
    "    a = np.asarray(a); b = np.asarray(b)\n",
    "    nA, nB = len(a), len(b)\n",
    "    vals = []\n",
    "    for _ in range(iters):\n",
    "        sa = a[rng.integers(0, nA, nA)]   # resample A\n",
    "        sb = b[rng.integers(0, nB, nB)]   # resample B\n",
    "        vals.append(sb.mean() - sa.mean())\n",
    "    lo, hi = np.quantile(vals, [alpha/2, 1 - alpha/2])\n",
    "    return float(lo), float(hi)\n",
    "\n",
    "# bootstrap CI for revenue delta (mean(B) - mean(A))\n",
    "boot_lo, boot_hi = bootstrap_ci_diff_means(A[\"revenue\"].values, B[\"revenue\"].values)\n",
    "(boot_lo, boot_hi)\n"
   ]
  },
  {
   "cell_type": "code",
   "execution_count": 9,
   "id": "90537320",
   "metadata": {},
   "outputs": [
    {
     "data": {
      "text/plain": [
       "(-1.157488453953249,\n",
       " (-3.7197051164946453, 1.4047282085881472),\n",
       " (-4.037704995351779, 0.9539759784834797))"
      ]
     },
     "execution_count": 9,
     "metadata": {},
     "output_type": "execute_result"
    }
   ],
   "source": [
    "res_mean['delta'], (res_mean['ci_low'], res_mean['ci_high']), (boot_lo, boot_hi)\n"
   ]
  },
  {
   "cell_type": "code",
   "execution_count": 10,
   "id": "3dfbd952",
   "metadata": {},
   "outputs": [
    {
     "data": {
      "image/png": "[encoded data removed]",
      "text/plain": [
       "<Figure size 750x450 with 1 Axes>"
      ]
     },
     "metadata": {},
     "output_type": "display_data"
    }
   ],
   "source": [
    "#Plots\n",
    "\n",
    "from pathlib import Path\n",
    "import numpy as np\n",
    "import matplotlib.pyplot as plt\n",
    "\n",
    "out = Path(\"report\"); out.mkdir(exist_ok=True)\n",
    "\n",
    "def boot_ci_mean(x, iters=10000, alpha=0.05, seed=42):\n",
    "    rng = np.random.default_rng(seed)\n",
    "    x = np.asarray(x); n = len(x)\n",
    "    draws = [x[rng.integers(0, n, n)].mean() for _ in range(iters)]\n",
    "    lo, hi = np.quantile(draws, [alpha/2, 1-alpha/2])\n",
    "    return float(lo), float(hi)\n",
    "\n",
    "# A and B must already be defined earlier (they are from your step 7)\n",
    "meanA, meanB = A[\"revenue\"].mean(), B[\"revenue\"].mean()\n",
    "loA, hiA = boot_ci_mean(A[\"revenue\"].values, seed=42)\n",
    "loB, hiB = boot_ci_mean(B[\"revenue\"].values, seed=43)\n",
    "\n",
    "xs    = np.arange(2)\n",
    "means = np.array([meanA, meanB])\n",
    "yerr  = np.vstack([means - np.array([loA, loB]),   # lower distances\n",
    "                   np.array([hiA, hiB]) - means])  # upper distances\n",
    "\n",
    "plt.figure()\n",
    "plt.errorbar(xs, means, yerr=yerr, fmt='o', capsize=5)\n",
    "plt.xticks(xs, [\"A\",\"B\"])\n",
    "plt.title(\"Group means with bootstrap 95% CI\")\n",
    "plt.tight_layout()\n",
    "plt.savefig(out/\"revenue_ci.png\", dpi=170)\n",
    "\n"
   ]
  },
  {
   "cell_type": "code",
   "execution_count": 11,
   "id": "d75f0cee",
   "metadata": {},
   "outputs": [
    {
     "name": "stdout",
     "output_type": "stream",
     "text": [
      "Permutation p-value: 0.46970605878824234\n"
     ]
    }
   ],
   "source": [
    "# --- Permutation test for mean(B) - mean(A) (2-sided) ---\n",
    "import numpy as np\n",
    "\n",
    "def perm_test_mean(a, b, iters=5000, seed=42):\n",
    "    rng = np.random.default_rng(seed)\n",
    "    a = np.asarray(a); b = np.asarray(b)\n",
    "    obs = b.mean() - a.mean()\n",
    "    pooled = np.concatenate([a, b]); n_b = len(b)\n",
    "    cnt = 0\n",
    "    for _ in range(iters):\n",
    "        rng.shuffle(pooled)\n",
    "        diff = pooled[-n_b:].mean() - pooled[:-n_b].mean()\n",
    "        if abs(diff) >= abs(obs):\n",
    "            cnt += 1\n",
    "    return float(obs), float((cnt + 1) / (iters + 1))  # add-one smoothing\n",
    "\n",
    "_, p_perm = perm_test_mean(A[\"revenue\"].values, B[\"revenue\"].values, iters=5000, seed=42)\n",
    "print(\"Permutation p-value:\", p_perm)\n"
   ]
  },
  {
   "cell_type": "code",
   "execution_count": 12,
   "id": "2bbbc017",
   "metadata": {},
   "outputs": [
    {
     "name": "stdout",
     "output_type": "stream",
     "text": [
      "Wrote: report\\results.json and report\\memo.html\n"
     ]
    }
   ],
   "source": [
    "from pathlib import Path\n",
    "import json\n",
    "\n",
    "out = Path(\"report\"); out.mkdir(exist_ok=True)\n",
    "\n",
    "# --- pull values you already computed earlier ---\n",
    "primary = {\n",
    "    \"metric\": \"retention_7\",\n",
    "    \"meanA\": float(res_prop[\"pA\"]),\n",
    "    \"meanB\": float(res_prop[\"pB\"]),\n",
    "    \"delta\": float(res_prop[\"delta\"]),\n",
    "    \"ci_low\": float(res_prop[\"ci_low\"]),\n",
    "    \"ci_high\": float(res_prop[\"ci_high\"]),\n",
    "    \"pvalue\": float(res_prop[\"pvalue\"]),\n",
    "}\n",
    "\n",
    "secondary = {\n",
    "    \"metric\": \"sum_gamerounds\",\n",
    "    \"meanA\": float(res_mean[\"meanA\"]),\n",
    "    \"meanB\": float(res_mean[\"meanB\"]),\n",
    "    \"delta\": float(res_mean[\"delta\"]),\n",
    "    \"ci_low_welch\": float(res_mean[\"ci_low\"]),\n",
    "    \"ci_high_welch\": float(res_mean[\"ci_high\"]),\n",
    "    \"boot_low\": float(boot_lo),\n",
    "    \"boot_high\": float(boot_hi),\n",
    "    \"p_perm\": float(p_perm),      # from your permutation test cell\n",
    "}\n",
    "\n",
    "# --- save structured results ---\n",
    "(out/\"results.json\").write_text(json.dumps({\"primary\": primary, \"secondary\": secondary}, indent=2))\n",
    "\n",
    "# --- render a simple executive memo ---\n",
    "memo_html = f\"\"\"\n",
    "<h2>A/B Test – Game Experiment</h2>\n",
    "\n",
    "<h3>Primary KPI: 7-day retention</h3>\n",
    "<p>\n",
    "A: {primary['meanA']:.4f} &nbsp;&nbsp; B: {primary['meanB']:.4f}<br>\n",
    "Δ = {primary['delta']:.4f} (95% CI [{primary['ci_low']:.4f}, {primary['ci_high']:.4f}]),\n",
    "p = {primary['pvalue']:.3f}\n",
    "</p>\n",
    "\n",
    "<h3>Secondary: Gameplay (sum_gamerounds)</h3>\n",
    "<p>\n",
    "A: {secondary['meanA']:.2f} &nbsp;&nbsp; B: {secondary['meanB']:.2f}<br>\n",
    "Δ = {secondary['delta']:.2f}\n",
    "(Welch 95% CI [{secondary['ci_low_welch']:.2f}, {secondary['ci_high_welch']:.2f}];\n",
    "Bootstrap 95% CI [{secondary['boot_low']:.2f}, {secondary['boot_high']:.2f}];\n",
    "Permutation p = {secondary['p_perm']:.3f})\n",
    "</p>\n",
    "\n",
    "<h3>Visuals</h3>\n",
    "<p><img src=\"revenue_dist.png\" width=\"520\"></p>\n",
    "<p><img src=\"revenue_ci.png\"   width=\"520\"></p>\n",
    "\n",
    "<h3>Decision</h3>\n",
    "<p>Base the ship/no-ship on the <b>primary KPI</b>. Secondary is supportive and not significant here.</p>\n",
    "\"\"\"\n",
    "(out/\"memo.html\").write_text(memo_html, encoding=\"utf-8\")\n",
    "\n",
    "print(\"Wrote:\", out/\"results.json\", \"and\", out/\"memo.html\")\n"
   ]
  }
 ],
 "metadata": {
  "kernelspec": {
   "display_name": "Python 3 (ipykernel)",
   "language": "python",
   "name": "python3"
  },
  "language_info": {
   "codemirror_mode": {
    "name": "ipython",
    "version": 3
   },
   "file_extension": ".py",
   "mimetype": "text/x-python",
   "name": "python",
   "nbconvert_exporter": "python",
   "pygments_lexer": "ipython3",
   "version": "3.9.15"
  }
 },
 "nbformat": 4,
 "nbformat_minor": 5
}
